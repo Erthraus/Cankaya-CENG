{
 "cells": [
  {
   "cell_type": "code",
   "execution_count": 1,
   "id": "e4e3dd1c",
   "metadata": {},
   "outputs": [],
   "source": [
    "import numpy as np\n",
    "import matplotlib.pyplot as plt\n",
    "import math\n",
    "\n",
    "def bisection(f, a, b, tol, max_iter = 100):\n",
    "    x = np.arange(a, b, 0.01)\n",
    "    fig, ax = plt.subplots()\n",
    "    ax.plot(x, f(x))\n",
    "    ax.set_xlabel('x')\n",
    "    ax.set_ylabel('y')\n",
    "    ax.set_title('y = f')\n",
    "    \n",
    "    if f(a) * f(b) > 0:\n",
    "        raise Exception(\"Error: f(a) and f(b) must have opposite signs\")\n",
    "    \n",
    "    else:\n",
    "        for i in range(max_iter):\n",
    "            p = (a + b)/2\n",
    "            print(f\"a = {a}, b = {b}, p{i+1} = {p}, f(p{i+1}) = {f(p)}\")\n",
    "            ax.scatter(p, f(p), c='red')\n",
    "            \n",
    "            if abs(f(p)) < tol:\n",
    "                print(f\"Solution found after {i+1} iterations:\\np = {p}, f(p) = {f(p)}\")\n",
    "                break\n",
    "            \n",
    "            elif f(p)*f(a) < 0:\n",
    "                b = p\n",
    "            \n",
    "            else:\n",
    "                a = p\n",
    "        else:\n",
    "            print(\"Maximum number of iterations exceeded.\")\n",
    "            print(f\"p = {p}, f(p) = {f(p)}\")\n",
    "            \n",
    "    plt.show()\n",
    "    \n",
    "def secant(f, x0, x1, e, N = 100):\n",
    "    step = 1\n",
    "    condition = True\n",
    "    while condition:\n",
    "        if f(x0) == f(x1):\n",
    "            print('Divide by zero error!')\n",
    "            return\n",
    "        \n",
    "        x2 = x0 - (x1-x0)*f(x0)/( f(x1) - f(x0) ) \n",
    "        print('Iteration-%d, x2 = %0.6f and f(x2) = %0.6f' % (step, x2, f(x2)))\n",
    "        x0 = x1\n",
    "        x1 = x2\n",
    "        step = step + 1\n",
    "        \n",
    "        if step > N:\n",
    "            print('Not Convergent!')\n",
    "            return\n",
    "        \n",
    "        condition = abs(f(x2)) > e\n",
    "    print('\\n Required root is: %0.8f' % x2)\n",
    "    \n",
    "def regulaFalsi(f, x0, x1, e, N = 100):\n",
    "    step = 1\n",
    "    \n",
    "    condition = True\n",
    "    while condition:\n",
    "        x2 = x0 - (x1-x0) * f(x0)/( f(x1) - f(x0) )\n",
    "        print('Iteration-%d, x2 = %0.6f and f(x2) = %0.6f' % (step, x2, f(x2)))\n",
    "\n",
    "        if f(x0) * f(x2) < 0:\n",
    "            x1 = x2\n",
    "        else:\n",
    "            x0 = x2\n",
    "\n",
    "        step = step + 1\n",
    "        \n",
    "        if step > N:\n",
    "            print('Not Convergent!')\n",
    "            return\n",
    "        \n",
    "        condition = abs(f(x2)) > e\n",
    "\n",
    "    print('\\nRequired root is: %0.8f' % x2)\n",
    "    \n",
    "def fixedPoint(f, g, x0, e, N = 100):\n",
    "    print('*** FIXED POINT ITERATION ***')\n",
    "    step = 1\n",
    "    condition = True\n",
    "    while condition:\n",
    "        x1 = g(x0)\n",
    "        print('Iteration-%d, x1 = %0.6f and f(x1) = %0.6f' % (step, x1, f(x1)))\n",
    "        x0 = x1\n",
    "\n",
    "        step = step + 1\n",
    "        \n",
    "        if step > N:\n",
    "            print('Not Convergent!')\n",
    "            return\n",
    "        condition = abs(f(x1)) > e\n",
    "    print('\\n Required root is: %0.8f' % x1)\n",
    "    \n",
    "def newtonRaphson(f, g, x0, e , N = 100):\n",
    "    print('*** NEWTON RAPHSON METHOD IMPLEMENTATION ***')\n",
    "    step = 1\n",
    "    condition = True\n",
    "    while condition:\n",
    "        if g(x0) == 0.0:\n",
    "            print('Divide by zero error!')\n",
    "            return\n",
    "        \n",
    "        x1 = x0 - f(x0)/g(x0)\n",
    "        print('Iteration-%d, x1 = %0.6f and f(x1) = %0.6f' % (step, x1, f(x1)))\n",
    "        x0 = x1\n",
    "        step = step + 1\n",
    "        \n",
    "        if step > N:\n",
    "            print('Not Convergent!')\n",
    "            return\n",
    "        \n",
    "        condition = abs(f(x1)) > e\n",
    "    print('\\n Required root is: %0.8f' % x1)"
   ]
  },
  {
   "cell_type": "code",
   "execution_count": 2,
   "id": "e2721624",
   "metadata": {},
   "outputs": [
    {
     "name": "stdout",
     "output_type": "stream",
     "text": [
      "a = 1.0, b = 2.0, p1 = 1.5, f(p1) = 0.25\n",
      "a = 1.0, b = 1.5, p2 = 1.25, f(p2) = -0.4375\n",
      "a = 1.25, b = 1.5, p3 = 1.375, f(p3) = -0.109375\n",
      "a = 1.375, b = 1.5, p4 = 1.4375, f(p4) = 0.06640625\n",
      "a = 1.375, b = 1.4375, p5 = 1.40625, f(p5) = -0.0224609375\n",
      "a = 1.40625, b = 1.4375, p6 = 1.421875, f(p6) = 0.021728515625\n",
      "a = 1.40625, b = 1.421875, p7 = 1.4140625, f(p7) = -0.00042724609375\n",
      "a = 1.4140625, b = 1.421875, p8 = 1.41796875, f(p8) = 0.0106353759765625\n",
      "a = 1.4140625, b = 1.41796875, p9 = 1.416015625, f(p9) = 0.005100250244140625\n",
      "a = 1.4140625, b = 1.416015625, p10 = 1.4150390625, f(p10) = 0.0023355484008789062\n",
      "a = 1.4140625, b = 1.4150390625, p11 = 1.41455078125, f(p11) = 0.0009539127349853516\n",
      "a = 1.4140625, b = 1.41455078125, p12 = 1.414306640625, f(p12) = 0.0002632737159729004\n",
      "a = 1.4140625, b = 1.414306640625, p13 = 1.4141845703125, f(p13) = -8.200109004974365e-05\n",
      "Solution found after 13 iterations:\n",
      "p = 1.4141845703125, f(p) = -8.200109004974365e-05\n"
     ]
    },
    {
     "data": {
      "image/png": "[encoded data removed]",
      "text/plain": [
       "<Figure size 640x480 with 1 Axes>"
      ]
     },
     "metadata": {},
     "output_type": "display_data"
    }
   ],
   "source": [
    "#Question 1\n",
    "\n",
    "f = lambda x: x**2 - 2\n",
    "\n",
    "bisection(f, 1.0, 2.0, 10**-4)"
   ]
  },
  {
   "cell_type": "code",
   "execution_count": 3,
   "id": "9928deb9",
   "metadata": {},
   "outputs": [
    {
     "name": "stdout",
     "output_type": "stream",
     "text": [
      "Iteration-1, x2 = 1.333333 and f(x2) = -0.222222\n",
      "Iteration-2, x2 = 1.400000 and f(x2) = -0.040000\n",
      "Iteration-3, x2 = 1.414634 and f(x2) = 0.001190\n",
      "Iteration-4, x2 = 1.414211 and f(x2) = -0.000006\n",
      "\n",
      " Required root is: 1.41421144\n"
     ]
    }
   ],
   "source": [
    "#Question 2\n",
    "\n",
    "secant(f, 1.0, 2.0, 10**-4)"
   ]
  },
  {
   "cell_type": "code",
   "execution_count": 4,
   "id": "1047d1c4",
   "metadata": {},
   "outputs": [
    {
     "name": "stdout",
     "output_type": "stream",
     "text": [
      "Iteration-1, x2 = 1.333333 and f(x2) = -0.222222\n",
      "Iteration-2, x2 = 1.400000 and f(x2) = -0.040000\n",
      "Iteration-3, x2 = 1.411765 and f(x2) = -0.006920\n",
      "Iteration-4, x2 = 1.413793 and f(x2) = -0.001189\n",
      "Iteration-5, x2 = 1.414141 and f(x2) = -0.000204\n",
      "Iteration-6, x2 = 1.414201 and f(x2) = -0.000035\n",
      "\n",
      "Required root is: 1.41420118\n"
     ]
    }
   ],
   "source": [
    "regulaFalsi(f, 1.0, 2.0, 10**-4)"
   ]
  },
  {
   "cell_type": "code",
   "execution_count": 5,
   "id": "d3a81007",
   "metadata": {},
   "outputs": [
    {
     "name": "stdout",
     "output_type": "stream",
     "text": [
      "*** FIXED POINT ITERATION ***\n",
      "Iteration-1, x1 = 1.500000 and f(x1) = 0.250000\n",
      "Iteration-2, x1 = 1.416667 and f(x1) = 0.006944\n",
      "Iteration-3, x1 = 1.414216 and f(x1) = 0.000006\n",
      "\n",
      " Required root is: 1.41421569\n"
     ]
    }
   ],
   "source": [
    "#Question 3\n",
    "\n",
    "# Re-writing f(x)=0 to x = g(x)\n",
    "g = lambda x: (𝑥 + 2/𝑥) / 2\n",
    "\n",
    "fixedPoint(f, g, 1.0, 10**-4)"
   ]
  },
  {
   "cell_type": "code",
   "execution_count": 6,
   "id": "dc4e315b",
   "metadata": {
    "scrolled": true
   },
   "outputs": [
    {
     "name": "stdout",
     "output_type": "stream",
     "text": [
      "Iteration-1, x1 = 1.000000 and f(x1) = -1.000000\n",
      "Iteration-2, x1 = 2.000000 and f(x1) = 2.000000\n",
      "Iteration-3, x1 = 1.666667 and f(x1) = 0.777778\n",
      "Iteration-4, x1 = 1.477477 and f(x1) = 0.182940\n",
      "Iteration-5, x1 = 1.419177 and f(x1) = 0.014064\n",
      "\n",
      " Required root is: 1.41424668\n"
     ]
    }
   ],
   "source": [
    "#Question 4\n",
    "\n",
    "g = lambda x: (f(x + f(x)) - f(x)) / f(x)\n",
    "\n",
    "x = 1.0  \n",
    "tol = 10**-4\n",
    "step = 1\n",
    "\n",
    "while abs(f(x)) > tol:\n",
    "    print('Iteration-%d, x1 = %0.6f and f(x1) = %0.6f' % (step, x, f(x)))\n",
    "    x = x - (f(x) / g(x))\n",
    "    step = step + 1\n",
    "\n",
    "print('\\n Required root is: %0.8f' % x)\n"
   ]
  },
  {
   "cell_type": "code",
   "execution_count": 7,
   "id": "3f06ace5",
   "metadata": {},
   "outputs": [
    {
     "name": "stdout",
     "output_type": "stream",
     "text": [
      "*** NEWTON RAPHSON METHOD IMPLEMENTATION ***\n",
      "Iteration-1, x1 = 1.500000 and f(x1) = 0.250000\n",
      "Iteration-2, x1 = 1.416667 and f(x1) = 0.006944\n",
      "Iteration-3, x1 = 1.414216 and f(x1) = 0.000006\n",
      "\n",
      " Required root is: 1.41421569\n"
     ]
    }
   ],
   "source": [
    "#Question 5\n",
    "\n",
    "# Defining derivative of function\n",
    "g = lambda x: 2 * x\n",
    "\n",
    "newtonRaphson(f, g, 1.0, 10**-4)"
   ]
  },
  {
   "cell_type": "markdown",
   "id": "5bf0ba06",
   "metadata": {},
   "source": [
    "# Conclusion\n",
    "The fastest one is the Newton Method"
   ]
  }
 ],
 "metadata": {
  "kernelspec": {
   "display_name": "Python 3 (ipykernel)",
   "language": "python",
   "name": "python3"
  },
  "language_info": {
   "codemirror_mode": {
    "name": "ipython",
    "version": 3
   },
   "file_extension": ".py",
   "mimetype": "text/x-python",
   "name": "python",
   "nbconvert_exporter": "python",
   "pygments_lexer": "ipython3",
   "version": "3.9.13"
  }
 },
 "nbformat": 4,
 "nbformat_minor": 5
}
